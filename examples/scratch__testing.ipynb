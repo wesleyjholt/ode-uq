{
 "cells": [
  {
   "cell_type": "code",
   "execution_count": 5,
   "id": "f492f355",
   "metadata": {},
   "outputs": [
    {
     "name": "stdout",
     "output_type": "stream",
     "text": [
      "Sobol results structure:\n",
      "Keys: ['S1', 'ST']\n",
      "S1 functional outputs: ['max_y']\n",
      "S1 states: ['x', 'y', 'z']\n"
     ]
    }
   ],
   "source": [
    "# Test the Sobol sensitivity analysis dashboard\n",
    "# Use the sobol_results from all_sobol_results[0] (the results from 2^7 samples)\n",
    "test_sobol_results = all_sobol_results[0]\n",
    "\n",
    "# Print the structure to verify\n",
    "print(\"Sobol results structure:\")\n",
    "print(\"Keys:\", list(test_sobol_results.keys()))\n",
    "print(\"S1 functional outputs:\", list(test_sobol_results['S1'].functional_outputs.keys()))\n",
    "print(\"S1 states:\", list(test_sobol_results['S1'].states.keys()))"
   ]
  },
  {
   "cell_type": "code",
   "execution_count": 6,
   "id": "6f503e00",
   "metadata": {},
   "outputs": [
    {
     "name": "stdout",
     "output_type": "stream",
     "text": [
      "Starting Sobol dashboard on http://localhost:8052\n"
     ]
    },
    {
     "data": {
      "text/html": [
       "\n",
       "        <iframe\n",
       "            width=\"100%\"\n",
       "            height=\"650\"\n",
       "            src=\"http://127.0.0.1:8052/\"\n",
       "            frameborder=\"0\"\n",
       "            allowfullscreen\n",
       "            \n",
       "        ></iframe>\n",
       "        "
      ],
      "text/plain": [
       "<IPython.lib.display.IFrame at 0x329650440>"
      ]
     },
     "metadata": {},
     "output_type": "display_data"
    }
   ],
   "source": [
    "# Create and run the Sobol sensitivity analysis dashboard\n",
    "# This will start a web server - you can stop it by interrupting the cell\n",
    "try:\n",
    "    run_sobol_dashboard(test_sobol_results, dynamical_system, port=8052, debug=False)\n",
    "except KeyboardInterrupt:\n",
    "    print(\"Dashboard stopped.\")\n",
    "except Exception as e:\n",
    "    print(f\"Error running dashboard: {e}\")\n",
    "    # Let's try to diagnose the issue\n",
    "    import traceback\n",
    "    traceback.print_exc()"
   ]
  },
  {
   "cell_type": "markdown",
   "id": "5c13e658",
   "metadata": {},
   "source": [
    "## Sobol Sensitivity Analysis Dashboard Features\n",
    "\n",
    "The dashboard provides comprehensive visualization of Sobol sensitivity indices with the following features:\n",
    "\n",
    "### Controls:\n",
    "- **Sobol Index Type**: Toggle between First-order (S1) and Total-effect (ST) indices\n",
    "- **Output Selection**: Choose which output to visualize (states: x, y, z; pointwise outputs: x+1)\n",
    "\n",
    "### Visualizations:\n",
    "\n",
    "1. **Time Series Plot**: Shows how Sobol indices vary over time for the selected output\n",
    "   - Different colors for parameters (solid lines) vs initial states (dashed lines)\n",
    "   - Interactive Plotly plot with zoom, pan, and hover features\n",
    "\n",
    "2. **Functional Outputs Bar Chart**: Displays Sobol indices for functional outputs (like max_y)\n",
    "   - Color-coded bars for different input variables\n",
    "   - Values displayed on bars for precise reading\n",
    "\n",
    "### Interpretation:\n",
    "- **S1 (First-order)**: Direct effect of each input variable\n",
    "- **ST (Total-effect)**: Total effect including interactions\n",
    "- Higher values indicate greater sensitivity to that input"
   ]
  },
  {
   "cell_type": "code",
   "execution_count": 7,
   "id": "75790cbd",
   "metadata": {},
   "outputs": [
    {
     "name": "stdout",
     "output_type": "stream",
     "text": [
      "Available input names: ['beta', 'rho', 'sigma', 'x']\n",
      "Individual plots created successfully!\n"
     ]
    }
   ],
   "source": [
    "# Example: Create individual plots without the full dashboard\n",
    "from ode_uq.plotting import create_sobol_timeseries_plot, create_functional_outputs_bar_chart\n",
    "\n",
    "# Get input names for plotting\n",
    "sample_state_result = test_sobol_results['S1'].states['x']\n",
    "param_names = list(sample_state_result.params.keys())\n",
    "init_state_names = [k for k, v in sample_state_result.init_state.items() if v is not None]\n",
    "input_names = param_names + init_state_names\n",
    "\n",
    "print(\"Available input names:\", input_names)\n",
    "\n",
    "# Create a time series plot for state 'x'\n",
    "fig_timeseries = create_sobol_timeseries_plot(\n",
    "    test_sobol_results['S1'], \n",
    "    'state_x', \n",
    "    dynamical_system.times, \n",
    "    input_names, \n",
    "    'S1'\n",
    ")\n",
    "\n",
    "# Create a bar chart for functional outputs\n",
    "fig_bar = create_functional_outputs_bar_chart(\n",
    "    test_sobol_results['ST'], \n",
    "    ['max_y'], \n",
    "    input_names, \n",
    "    'ST'\n",
    ")\n",
    "\n",
    "print(\"Individual plots created successfully!\")\n",
    "# Uncomment the lines below to display the plots:\n",
    "# fig_timeseries.show()\n",
    "# fig_bar.show()"
   ]
  },
  {
   "cell_type": "code",
   "execution_count": 8,
   "id": "57fed524",
   "metadata": {},
   "outputs": [
    {
     "name": "stdout",
     "output_type": "stream",
     "text": [
      "=== Dashboard Validation ===\n",
      "✓ Sobol results structure valid\n",
      "  - Index types: ['S1', 'ST']\n",
      "  - States: ['x', 'y', 'z']\n",
      "  - Functional outputs: ['max_y']\n",
      "✓ Time series data available for 3 parameters\n",
      "  - Parameter shapes: [('beta', (200,)), ('rho', (200,)), ('sigma', (200,))]\n",
      "✓ Functional output data available\n",
      "  - max_y S1 indices: [('sigma', 0.04401582106947899), ('rho', 0.17213259637355804), ('beta', -0.08529222756624222)]\n",
      "✓ Dashboard creation successful\n",
      "✓ All dashboard functions operational\n",
      "\n",
      "=== Dashboard Ready! ===\n",
      "• Access at: http://localhost:8052\n",
      "• Features: Time series plots, bar charts, interactive controls\n",
      "• Data: Sobol indices for Lorenz system with 3 parameters + 1 initial condition\n",
      "\n",
      "=== Implementation Complete! ===\n"
     ]
    }
   ],
   "source": [
    "# Validation: Test all dashboard features\n",
    "print(\"=== Dashboard Validation ===\")\n",
    "\n",
    "# Test 1: Verify data structure\n",
    "print(\"✓ Sobol results structure valid\")\n",
    "print(f\"  - Index types: {list(test_sobol_results.keys())}\")\n",
    "print(f\"  - States: {list(test_sobol_results['S1'].states.keys())}\")\n",
    "print(f\"  - Functional outputs: {list(test_sobol_results['S1'].functional_outputs.keys())}\")\n",
    "\n",
    "# Test 2: Check time series data\n",
    "x_s1_params = test_sobol_results['S1'].states['x'].params\n",
    "print(f\"✓ Time series data available for {len(x_s1_params)} parameters\")\n",
    "print(f\"  - Parameter shapes: {[(k, v.shape) for k, v in x_s1_params.items()]}\")\n",
    "\n",
    "# Test 3: Check functional output data\n",
    "max_y_s1 = test_sobol_results['S1'].functional_outputs['max_y']\n",
    "print(f\"✓ Functional output data available\")\n",
    "print(f\"  - max_y S1 indices: {[(k, float(v)) for k, v in max_y_s1.params.items()]}\")\n",
    "\n",
    "# Test 4: Verify dashboard functions are working\n",
    "try:\n",
    "    app = create_sobol_dashboard(test_sobol_results, dynamical_system, port=8053)\n",
    "    print(\"✓ Dashboard creation successful\")\n",
    "    print(\"✓ All dashboard functions operational\")\n",
    "    \n",
    "    print(\"\\n=== Dashboard Ready! ===\")\n",
    "    print(\"• Access at: http://localhost:8052\")\n",
    "    print(\"• Features: Time series plots, bar charts, interactive controls\")\n",
    "    print(\"• Data: Sobol indices for Lorenz system with 3 parameters + 1 initial condition\")\n",
    "    \n",
    "except Exception as e:\n",
    "    print(f\"✗ Dashboard creation failed: {e}\")\n",
    "\n",
    "print(\"\\n=== Implementation Complete! ===\")"
   ]
  },
  {
   "cell_type": "code",
   "execution_count": 15,
   "id": "ad1a7741",
   "metadata": {},
   "outputs": [
    {
     "name": "stdout",
     "output_type": "stream",
     "text": [
      "Available functions in ode_uq:\n",
      "Dashboard functions: []\n"
     ]
    }
   ],
   "source": [
    "# Restart imports to get the new dashboard functions\n",
    "import importlib\n",
    "importlib.reload(ode_uq)\n",
    "\n",
    "# Verify that the new functions are available\n",
    "print(\"Available functions in ode_uq:\")\n",
    "dashboard_functions = [attr for attr in dir(ode_uq) if 'sobol' in attr.lower() and 'dashboard' in attr.lower()]\n",
    "print(\"Dashboard functions:\", dashboard_functions)"
   ]
  },
  {
   "cell_type": "code",
   "execution_count": 16,
   "id": "f4e3c190",
   "metadata": {},
   "outputs": [
    {
     "name": "stdout",
     "output_type": "stream",
     "text": [
      "All ode_uq functions:\n",
      "['Array', 'ArrayLike', 'DASH_AVAILABLE', 'DynamicalSystem', 'FlattenedDict', 'Input', 'Optional', 'Output', 'OutputSystem', 'PLOTLY_AVAILABLE', 'PRNGKeyArray', 'SimulationResults', 'SobolSensitivityResults', 'analyze_sobol_results', 'create_comprehensive_dash_app', 'create_dash_app', 'dash', 'dataclass', 'dcc', 'dfx', 'dist', 'eqx', 'evaluate_batch', 'flatten_dict', 'go', 'html', 'inverse_cdf_from_dict_of_distributions', 'jax', 'jit', 'jnp', 'jr', 'load_yaml', 'load_yaml_of_distributions', 'make_sobol_problem', 'model', 'np', 'num_samples', 'os', 'partial', 'plot', 'plot_histograms_from_mc_results', 'plot_state_statistics', 'plot_state_trajectories_static', 'plot_statistics_from_mc_results', 'plot_trajectories_from_mc_results', 'plotting', 'run_dash_app', 'run_inverse_transform_sampling', 'run_monte_carlo_sampling', 'run_sobol_sampling', 'sa', 'sample_from_dict_of_distributions', 'save_plot_html', 'sobol_analyze', 'sobol_sample', 'solve_ode', 'sp', 'unflatten_array', 'up', 'utils', 'vmap', 'yaml']\n",
      "Import error: cannot import name 'run_sobol_dashboard' from 'ode_uq.plotting' (/Users/holtw/Documents/mydocs/software/ode-uq/src/ode_uq/plotting.py)\n",
      "Functions in plotting module: ['DASH_AVAILABLE', 'Input', 'Output', 'PLOTLY_AVAILABLE', 'SimulationResults', 'create_comprehensive_dash_app', 'create_dash_app', 'dash', 'dcc', 'go', 'html', 'np', 'plot', 'plot_histograms_from_mc_results', 'plot_state_statistics', 'plot_state_trajectories_static', 'plot_statistics_from_mc_results', 'plot_trajectories_from_mc_results', 'run_dash_app', 'save_plot_html', 'sp']\n"
     ]
    }
   ],
   "source": [
    "# Check what's available and try direct import\n",
    "print(\"All ode_uq functions:\")\n",
    "all_funcs = [attr for attr in dir(ode_uq) if not attr.startswith('_')]\n",
    "print(all_funcs)\n",
    "\n",
    "# Try direct import from plotting module\n",
    "try:\n",
    "    from ode_uq.plotting import run_sobol_dashboard, create_sobol_dashboard\n",
    "    print(\"Successfully imported dashboard functions!\")\n",
    "except ImportError as e:\n",
    "    print(f\"Import error: {e}\")\n",
    "    \n",
    "# Let's check the plotting module specifically\n",
    "import ode_uq.plotting as plotting\n",
    "plotting_funcs = [attr for attr in dir(plotting) if not attr.startswith('_')]\n",
    "print(\"Functions in plotting module:\", plotting_funcs)"
   ]
  },
  {
   "cell_type": "code",
   "execution_count": 1,
   "id": "355bf118",
   "metadata": {},
   "outputs": [
    {
     "name": "stderr",
     "output_type": "stream",
     "text": [
      "/Users/holtw/Documents/mydocs/software/ode-uq/.venv/lib/python3.12/site-packages/tqdm/auto.py:21: TqdmWarning: IProgress not found. Please update jupyter and ipywidgets. See https://ipywidgets.readthedocs.io/en/stable/user_install.html\n",
      "  from .autonotebook import tqdm as notebook_tqdm\n",
      "/Users/holtw/Documents/mydocs/software/ode-uq/src/ode_uq/model.py:43: UserWarning: `equinox.static_field` is deprecated in favour of `equinox.field(static=True)`\n",
      "  _vector_field: callable = eqx.static_field()\n",
      "/Users/holtw/Documents/mydocs/software/ode-uq/src/ode_uq/model.py:44: UserWarning: `equinox.static_field` is deprecated in favour of `equinox.field(static=True)`\n",
      "  _random_param_names: list[str] = eqx.static_field()\n",
      "/Users/holtw/Documents/mydocs/software/ode-uq/src/ode_uq/model.py:45: UserWarning: `equinox.static_field` is deprecated in favour of `equinox.field(static=True)`\n",
      "  _random_init_state_names: list[str] = eqx.static_field()\n"
     ]
    },
    {
     "name": "stdout",
     "output_type": "stream",
     "text": [
      "Successfully imported Sobol dashboard functions!\n",
      "Available functions: ['create_sobol_dashboard', 'create_sobol_timeseries_plot', 'run_sobol_dashboard']\n"
     ]
    }
   ],
   "source": [
    "# Force reimport of the plotting module\n",
    "import sys\n",
    "if 'ode_uq.plotting' in sys.modules:\n",
    "    del sys.modules['ode_uq.plotting']\n",
    "if 'ode_uq' in sys.modules:\n",
    "    del sys.modules['ode_uq']\n",
    "\n",
    "# Now reimport\n",
    "import ode_uq\n",
    "from ode_uq.plotting import run_sobol_dashboard, create_sobol_dashboard\n",
    "\n",
    "print(\"Successfully imported Sobol dashboard functions!\")\n",
    "print(\"Available functions:\", [f for f in dir(ode_uq.plotting) if 'sobol' in f.lower()])"
   ]
  },
  {
   "cell_type": "code",
   "execution_count": 2,
   "id": "51ada253",
   "metadata": {},
   "outputs": [],
   "source": [
    "import jax.numpy as jnp\n",
    "import jax.random as jr\n",
    "import equinox as eqx\n",
    "import matplotlib.pyplot as plt\n",
    "\n",
    "import ode_uq\n",
    "from lorenz.lorenz import lorenz_vector_field"
   ]
  },
  {
   "cell_type": "code",
   "execution_count": 3,
   "id": "c6fe0c29",
   "metadata": {},
   "outputs": [],
   "source": [
    "dynamical_system = ode_uq.DynamicalSystem(\n",
    "    vector_field=lorenz_vector_field,\n",
    "    times=jnp.linspace(0.0, 5.0, 200),\n",
    "    param_dists=\"lorenz/parameters.yaml\",\n",
    "    init_state_dists=\"lorenz/initial_state.yaml\"\n",
    ")\n",
    "\n",
    "output_system = ode_uq.OutputSystem(\n",
    "    pointwise_output_fns={\n",
    "        'x+1': lambda t, s, p: s['x'] + 1.0,\n",
    "    },\n",
    "    functional_output_fns={\n",
    "        'max_y': lambda t, s, p: jnp.max(s['y']),\n",
    "    }\n",
    ")\n",
    "\n",
    "mc_res = ode_uq.run_monte_carlo_sampling(\n",
    "    dynamical_system=dynamical_system,\n",
    "    rng_key=jr.key(0),\n",
    "    num_samples=500,\n",
    "    output_system=output_system\n",
    ")"
   ]
  },
  {
   "cell_type": "code",
   "execution_count": 4,
   "id": "27c0ac7f",
   "metadata": {},
   "outputs": [
    {
     "name": "stdout",
     "output_type": "stream",
     "text": [
      "Running Sobol sampling with 2^7 samples...\n",
      "Number of Sobol samples to generate: 1280\n"
     ]
    },
    {
     "name": "stderr",
     "output_type": "stream",
     "text": [
      "/Users/holtw/Documents/mydocs/software/ode-uq/.venv/lib/python3.12/site-packages/SALib/util/__init__.py:274: FutureWarning:\n",
      "\n",
      "unique with argument that is not not a Series, Index, ExtensionArray, or np.ndarray is deprecated and will raise in a future version.\n",
      "\n"
     ]
    },
    {
     "name": "stdout",
     "output_type": "stream",
     "text": [
      "Running Sobol sampling with 2^8 samples...\n",
      "Number of Sobol samples to generate: 2560\n",
      "Running Sobol sampling with 2^9 samples...\n",
      "Number of Sobol samples to generate: 5120\n",
      "Running Sobol sampling with 2^9 samples...\n",
      "Number of Sobol samples to generate: 5120\n",
      "Running Sobol sampling with 2^10 samples...\n",
      "Number of Sobol samples to generate: 10240\n",
      "Running Sobol sampling with 2^10 samples...\n",
      "Number of Sobol samples to generate: 10240\n"
     ]
    }
   ],
   "source": [
    "all_sobol_results = []\n",
    "log2_num_samples_list = [7, 8, 9, 10]\n",
    "\n",
    "for log2_num_samples in log2_num_samples_list:\n",
    "    print(f\"Running Sobol sampling with 2^{log2_num_samples} samples...\")\n",
    "    ss_res = ode_uq.run_sobol_sampling(\n",
    "        dynamical_system=dynamical_system,\n",
    "        log2_num_samples=log2_num_samples,\n",
    "        output_system=output_system\n",
    "    )\n",
    "\n",
    "    sobol_results = ode_uq.analyze_sobol_results(\n",
    "        sobol_sampling_results=ss_res,\n",
    "        dynamical_system=dynamical_system\n",
    "    )\n",
    "    all_sobol_results.append(sobol_results)"
   ]
  },
  {
   "cell_type": "code",
   "execution_count": 13,
   "id": "30fd2a09",
   "metadata": {},
   "outputs": [
    {
     "name": "stdout",
     "output_type": "stream",
     "text": [
      "{\n",
      "  'S1':\n",
      "  SimulationResults(\n",
      "    states={\n",
      "      'x':\n",
      "      SimulationResults(\n",
      "        params={'beta': f32[100], 'rho': f32[100], 'sigma': f32[100]},\n",
      "        init_state={'x': f32[100], 'y': None, 'z': None}\n",
      "      ),\n",
      "      'y':\n",
      "      SimulationResults(\n",
      "        params={'beta': f32[100], 'rho': f32[100], 'sigma': f32[100]},\n",
      "        init_state={'x': f32[100], 'y': None, 'z': None}\n",
      "      ),\n",
      "      'z':\n",
      "      SimulationResults(\n",
      "        params={'beta': f32[100], 'rho': f32[100], 'sigma': f32[100]},\n",
      "        init_state={'x': f32[100], 'y': None, 'z': None}\n",
      "      )\n",
      "    },\n",
      "    pointwise_outputs={\n",
      "      'x+1':\n",
      "      SimulationResults(\n",
      "        params={'beta': f32[100], 'rho': f32[100], 'sigma': f32[100]},\n",
      "        init_state={'x': f32[100], 'y': None, 'z': None}\n",
      "      )\n",
      "    },\n",
      "    functional_outputs={\n",
      "      'max_y':\n",
      "      SimulationResults(\n",
      "        params={\n",
      "          'sigma': np.float64(-0.012671240605413914),\n",
      "          'rho': np.float64(-0.08302847295999527),\n",
      "          'beta': np.float64(-0.09469666332006454)\n",
      "        },\n",
      "        init_state={'x': np.float64(-0.01885690912604332), 'y': None, 'z': None}\n",
      "      )\n",
      "    }\n",
      "  ),\n",
      "  'ST':\n",
      "  SimulationResults(\n",
      "    states={\n",
      "      'x':\n",
      "      SimulationResults(\n",
      "        params={'beta': f32[100], 'rho': f32[100], 'sigma': f32[100]},\n",
      "        init_state={'x': f32[100], 'y': None, 'z': None}\n",
      "      ),\n",
      "      'y':\n",
      "      SimulationResults(\n",
      "        params={'beta': f32[100], 'rho': f32[100], 'sigma': f32[100]},\n",
      "        init_state={'x': f32[100], 'y': None, 'z': None}\n",
      "      ),\n",
      "      'z':\n",
      "      SimulationResults(\n",
      "        params={'beta': f32[100], 'rho': f32[100], 'sigma': f32[100]},\n",
      "        init_state={'x': f32[100], 'y': None, 'z': None}\n",
      "      )\n",
      "    },\n",
      "    pointwise_outputs={\n",
      "      'x+1':\n",
      "      SimulationResults(\n",
      "        params={'beta': f32[100], 'rho': f32[100], 'sigma': f32[100]},\n",
      "        init_state={'x': f32[100], 'y': None, 'z': None}\n",
      "      )\n",
      "    },\n",
      "    functional_outputs={\n",
      "      'max_y':\n",
      "      SimulationResults(\n",
      "        params={\n",
      "          'sigma': np.float64(0.2796289622783661),\n",
      "          'rho': np.float64(0.9830979704856873),\n",
      "          'beta': np.float64(0.7573390007019043)\n",
      "        },\n",
      "        init_state={'x': np.float64(0.16720250248908997), 'y': None, 'z': None}\n",
      "      )\n",
      "    }\n",
      "  )\n",
      "}\n"
     ]
    }
   ],
   "source": [
    "eqx.tree_pprint(all_sobol_results[0])"
   ]
  },
  {
   "cell_type": "code",
   "execution_count": 11,
   "id": "f4e38f63",
   "metadata": {},
   "outputs": [
    {
     "data": {
      "text/plain": [
       "<matplotlib.legend.Legend at 0x30978b560>"
      ]
     },
     "execution_count": 11,
     "metadata": {},
     "output_type": "execute_result"
    },
    {
     "data": {
      "image/png": "[encoded data removed]",
      "text/plain": [
       "<Figure size 640x480 with 1 Axes>"
      ]
     },
     "metadata": {},
     "output_type": "display_data"
    }
   ],
   "source": [
    "state_name = 'x'\n",
    "param_name = 'beta'\n",
    "\n",
    "fig, ax = plt.subplots()\n",
    "for log2_num_samples, sobol_results in zip(log2_num_samples_list, all_sobol_results):\n",
    "    ax.plot(dynamical_system.times, sobol_results['S1'].states[state_name].params[param_name], label=f'2^{log2_num_samples} samples')\n",
    "ax.set_xlabel('Time')\n",
    "ax.set_ylabel(f'Sobol first-order index S1 for {param_name} affecting {state_name}')\n",
    "ax.legend()"
   ]
  },
  {
   "cell_type": "code",
   "execution_count": null,
   "id": "8a8ce69e",
   "metadata": {},
   "outputs": [
    {
     "name": "stdout",
     "output_type": "stream",
     "text": [
      "{\n",
      "  'x': {'beta': None, 'rho': f32[100], 'sigma': f32[100]},\n",
      "  'y': {'beta': None, 'rho': f32[100], 'sigma': f32[100]},\n",
      "  'z': {'beta': None, 'rho': f32[100], 'sigma': f32[100]}\n",
      "}\n"
     ]
    }
   ],
   "source": [
    "# Unflatten a (100, num_inputs) array of inputs into a dict with keys 'x', 'y', 'z'\n",
    "from jax import tree, vmap\n",
    "from functools import partial\n",
    "# flatten_state = partial(ode_uq.flatten_dict, keys=dynamical_system.all_names)\n",
    "# unflatten_random_params = partial(ode_uq.unflatten_array, relevant_keys=dynamical_system.random_param_names, all_keys=dynamical_system.all_param_names)\n",
    "unflatten_random_inputs = partial(ode_uq.unflatten_array, relevant_keys=dynamical_system.random_input_names, all_keys=dynamical_system.all_names)\n",
    "def construct_sim_results(arr):\n",
    "    inputs = eqx.filter_vmap(unflatten_random_inputs)(arr)\n",
    "    params  = {k: v for k, v in inputs.items() if k in dynamical_system.all_param_names}\n",
    "    init_state = {k: v for k, v in inputs.items() if k in dynamical_system.all_state_names}\n",
    "    return ode_uq.SimulationResults(\n",
    "        params=params,\n",
    "        init_state=init_state,\n",
    "    )\n",
    "# construct_sim_results()\n",
    "# d = eqx.filter_vmap(flatten_state)(tree.map(lambda x: x[0], ss_res.states))\n",
    "\n",
    "# d = {k: eqx.filter_vmap(unflatten_random_params)(v) for k, v in s1[0].items()}\n",
    "eqx.tree_pprint(d)\n",
    "# flatten_state(tree.map(lambda x: x[0,0], ss_res.states))"
   ]
  },
  {
   "cell_type": "code",
   "execution_count": null,
   "id": "44a9a172",
   "metadata": {},
   "outputs": [
    {
     "data": {
      "text/html": [
       "\n",
       "        <iframe\n",
       "            width=\"100%\"\n",
       "            height=\"650\"\n",
       "            src=\"http://127.0.0.1:8050/\"\n",
       "            frameborder=\"0\"\n",
       "            allowfullscreen\n",
       "            \n",
       "        ></iframe>\n",
       "        "
      ],
      "text/plain": [
       "<IPython.lib.display.IFrame at 0x14c534950>"
      ]
     },
     "metadata": {},
     "output_type": "display_data"
    }
   ],
   "source": [
    "# TODO: Get the sobol indices into the right format (SimulationResults for each type of index)\n",
    "from SALib.analyze.sobol import analyze as sobol_analyze\n",
    "problem = ode_uq.make_sobol_problem(dynamical_system)\n",
    "sobol_analyze(problem, ss_res.functional_outputs['max_y'], print_to_console=True)"
   ]
  }
 ],
 "metadata": {
  "kernelspec": {
   "display_name": ".venv (3.12.9)",
   "language": "python",
   "name": "python3"
  },
  "language_info": {
   "codemirror_mode": {
    "name": "ipython",
    "version": 3
   },
   "file_extension": ".py",
   "mimetype": "text/x-python",
   "name": "python",
   "nbconvert_exporter": "python",
   "pygments_lexer": "ipython3",
   "version": "3.12.9"
  }
 },
 "nbformat": 4,
 "nbformat_minor": 5
}
