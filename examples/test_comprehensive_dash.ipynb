{
 "cells": [
  {
   "cell_type": "code",
   "execution_count": 1,
   "id": "283c6c82",
   "metadata": {},
   "outputs": [],
   "source": [
    "# # Test the dashboard with a low max_plots to force checkbox system activation\n",
    "# print(\"Testing dashboard with max_plots=2 to force checkbox system...\")\n",
    "\n",
    "# try:\n",
    "#     app_limited = create_comprehensive_dashboard(\n",
    "#         mc_results,\n",
    "#         max_plots=2  # Force checkbox selection with only 2 plots allowed\n",
    "#     )\n",
    "#     print(\"Limited dashboard created successfully!\")\n",
    "#     print(\"This should show checkboxes since we have 3 states but max_plots=2\")\n",
    "#     print(\"You can run app_limited.run_server(debug=True, port=8051) to test\")\n",
    "# except Exception as e:\n",
    "#     print(f\"Error creating limited dashboard: {e}\")\n",
    "#     import traceback\n",
    "#     traceback.print_exc()\n",
    "\n",
    "# # Test with max_plots=1 (extreme case)\n",
    "# print(\"\\nTesting dashboard with max_plots=1 (extreme case)...\")\n",
    "\n",
    "# try:\n",
    "#     app_extreme = create_comprehensive_dashboard(\n",
    "#         mc_results,\n",
    "#         max_plots=1  # Only 1 plot allowed at a time\n",
    "#     )\n",
    "#     print(\"Extreme dashboard created successfully!\")\n",
    "#     print(\"This should show checkboxes with only 1 plot selectable at a time\")\n",
    "#     print(\"You can run app_extreme.run_server(debug=True, port=8052) to test\")\n",
    "# except Exception as e:\n",
    "#     print(f\"Error creating extreme dashboard: {e}\")\n",
    "#     import traceback\n",
    "#     traceback.print_exc()"
   ]
  },
  {
   "cell_type": "markdown",
   "id": "ea2725f7",
   "metadata": {},
   "source": [
    "# Test Comprehensive Dashboard with Many States\n",
    "\n",
    "This notebook tests the updated comprehensive dashboard function with the Lorenz system to ensure it handles many states/outputs without the vertical spacing error."
   ]
  },
  {
   "cell_type": "code",
   "execution_count": 2,
   "id": "8f977adb",
   "metadata": {},
   "outputs": [
    {
     "name": "stderr",
     "output_type": "stream",
     "text": [
      "/Users/holtw/Documents/mydocs/software/ode-uq/.venv/lib/python3.12/site-packages/tqdm/auto.py:21: TqdmWarning: IProgress not found. Please update jupyter and ipywidgets. See https://ipywidgets.readthedocs.io/en/stable/user_install.html\n",
      "  from .autonotebook import tqdm as notebook_tqdm\n",
      "/Users/holtw/Documents/mydocs/software/ode-uq/src/ode_uq/model.py:43: UserWarning: `equinox.static_field` is deprecated in favour of `equinox.field(static=True)`\n",
      "  _vector_field: callable = eqx.static_field()\n",
      "/Users/holtw/Documents/mydocs/software/ode-uq/src/ode_uq/model.py:44: UserWarning: `equinox.static_field` is deprecated in favour of `equinox.field(static=True)`\n",
      "  _random_param_names: list[str] = eqx.static_field()\n",
      "/Users/holtw/Documents/mydocs/software/ode-uq/src/ode_uq/model.py:45: UserWarning: `equinox.static_field` is deprecated in favour of `equinox.field(static=True)`\n",
      "  _random_init_state_names: list[str] = eqx.static_field()\n"
     ]
    }
   ],
   "source": [
    "import jax.numpy as jnp\n",
    "import jax.random as jr\n",
    "from jax import vmap\n",
    "import diffrax\n",
    "import numpyro.distributions as dist\n",
    "\n",
    "# Import our modules\n",
    "from ode_uq.up import run_monte_carlo_sampling\n",
    "from ode_uq.plotting import create_comprehensive_dashboard\n",
    "from ode_uq.model import DynamicalSystem, OutputSystem\n",
    "\n",
    "from lorenz.lorenz import lorenz_vector_field"
   ]
  },
  {
   "cell_type": "code",
   "execution_count": 3,
   "id": "d4e46166",
   "metadata": {},
   "outputs": [
    {
     "name": "stdout",
     "output_type": "stream",
     "text": [
      "Problem setup complete\n"
     ]
    }
   ],
   "source": [
    "# Define parameter distributions for Lorenz system using numpyro\n",
    "param_dists = {\n",
    "    'sigma': dist.Normal(10.0, 1.0),\n",
    "    'rho': dist.Normal(28.0, 2.0),\n",
    "    'beta': dist.Normal(8.0/3.0, 0.2)\n",
    "}\n",
    "\n",
    "# Initial state distributions (keeping deterministic for simplicity)\n",
    "init_state_dists = {\n",
    "    'x': 1.0,\n",
    "    'y': 1.0,\n",
    "    'z': 1.0\n",
    "}\n",
    "\n",
    "# Time span\n",
    "t_span = (0.0, 20.0)\n",
    "dt = 0.01\n",
    "times = jnp.arange(t_span[0], t_span[1], dt)\n",
    "\n",
    "print(\"Problem setup complete\")"
   ]
  },
  {
   "cell_type": "code",
   "execution_count": 4,
   "id": "39d8f25f",
   "metadata": {},
   "outputs": [
    {
     "name": "stdout",
     "output_type": "stream",
     "text": [
      "Created DynamicalSystem with 3 parameters\n",
      "Testing without OutputSystem first\n"
     ]
    }
   ],
   "source": [
    "# Let's start simple - no output system first\n",
    "# Create DynamicalSystem only\n",
    "dynamical_system = DynamicalSystem(\n",
    "    vector_field=lorenz_vector_field,\n",
    "    times=times,\n",
    "    param_dists=param_dists,\n",
    "    init_state_dists=init_state_dists\n",
    ")\n",
    "\n",
    "print(f\"Created DynamicalSystem with {len(param_dists)} parameters\")\n",
    "print(\"Testing without OutputSystem first\")"
   ]
  },
  {
   "cell_type": "code",
   "execution_count": 5,
   "id": "97ea5f85",
   "metadata": {},
   "outputs": [
    {
     "name": "stdout",
     "output_type": "stream",
     "text": [
      "Running Monte Carlo sampling...\n",
      "Monte Carlo sampling complete!\n",
      "- States: ['x', 'y', 'z']\n",
      "- Pointwise outputs: None\n",
      "- Functional outputs: None\n",
      "- Total trajectories: 3\n",
      "  State 'x': shape (100, 2000)\n",
      "  State 'y': shape (100, 2000)\n",
      "  State 'z': shape (100, 2000)\n",
      "Times shape: (2000,)\n"
     ]
    }
   ],
   "source": [
    "# Run Monte Carlo sampling without output system\n",
    "key = jr.PRNGKey(42)\n",
    "n_samples = 100\n",
    "\n",
    "print(\"Running Monte Carlo sampling...\")\n",
    "mc_results = run_monte_carlo_sampling(\n",
    "    dynamical_system,\n",
    "    key, \n",
    "    n_samples,\n",
    "    None  # No output system\n",
    ")\n",
    "\n",
    "print(f\"Monte Carlo sampling complete!\")\n",
    "print(f\"- States: {list(mc_results.states.keys()) if mc_results.states else 'None'}\")\n",
    "print(f\"- Pointwise outputs: {list(mc_results.pointwise_outputs.keys()) if mc_results.pointwise_outputs else 'None'}\")\n",
    "print(f\"- Functional outputs: {list(mc_results.functional_outputs.keys()) if mc_results.functional_outputs else 'None'}\")\n",
    "\n",
    "# Calculate total trajectories\n",
    "total_trajectories = 0\n",
    "if mc_results.states:\n",
    "    total_trajectories += len(mc_results.states)\n",
    "if mc_results.pointwise_outputs:\n",
    "    total_trajectories += len(mc_results.pointwise_outputs)\n",
    "    \n",
    "print(f\"- Total trajectories: {total_trajectories}\")\n",
    "\n",
    "# Check shapes\n",
    "if mc_results.states:\n",
    "    for name, data in mc_results.states.items():\n",
    "        print(f\"  State '{name}': shape {data.shape}\")\n",
    "\n",
    "print(f\"Times shape: {mc_results.times.shape}\")"
   ]
  },
  {
   "cell_type": "code",
   "execution_count": 6,
   "id": "0dd0e94b",
   "metadata": {},
   "outputs": [
    {
     "name": "stdout",
     "output_type": "stream",
     "text": [
      "Creating comprehensive dashboard with max_plots=10...\n",
      "Dashboard created successfully!\n",
      "Run app.run_server(debug=True, port=8050) to start the server\n"
     ]
    },
    {
     "data": {
      "text/html": [
       "\n",
       "        <iframe\n",
       "            width=\"100%\"\n",
       "            height=\"650\"\n",
       "            src=\"http://127.0.0.1:8050/\"\n",
       "            frameborder=\"0\"\n",
       "            allowfullscreen\n",
       "            \n",
       "        ></iframe>\n",
       "        "
      ],
      "text/plain": [
       "<IPython.lib.display.IFrame at 0x15b0ecbc0>"
      ]
     },
     "metadata": {},
     "output_type": "display_data"
    }
   ],
   "source": [
    "# Test the comprehensive dashboard with max_plots limit\n",
    "print(\"Creating comprehensive dashboard with max_plots=10...\")\n",
    "\n",
    "try:\n",
    "    app = create_comprehensive_dashboard(\n",
    "        mc_results,\n",
    "        max_plots=10  # Limit to 10 checkboxes\n",
    "    )\n",
    "    print(\"Dashboard created successfully!\")\n",
    "    print(\"Run app.run_server(debug=True, port=8050) to start the server\")\n",
    "except Exception as e:\n",
    "    print(f\"Error creating dashboard: {e}\")\n",
    "    import traceback\n",
    "    traceback.print_exc()\n",
    "app.run(debug=True, port=8050)  # This is now running on http://localhost:8050"
   ]
  },
  {
   "cell_type": "code",
   "execution_count": null,
   "id": "4537b4f7",
   "metadata": {},
   "outputs": [
    {
     "name": "stdout",
     "output_type": "stream",
     "text": [
      "Running quick Monte Carlo sampling...\n",
      "Created mc_results with states: ['x', 'y', 'z']\n",
      "\n",
      "Testing updated plot_trajectories_from_mc_results...\n",
      "Created plot with 30 traces\n",
      "Plot uses separate subplots: True\n",
      "\n",
      "Testing comprehensive dashboard...\n",
      "Dashboard created successfully!\n",
      "\n",
      "✅ SUCCESS: All changes implemented!\n",
      "- Each trajectory now gets its own subplot\n",
      "- Backwards compatibility removed\n",
      "- Trajectory order follows checkbox order regardless of selection order\n",
      "Created mc_results with states: ['x', 'y', 'z']\n",
      "\n",
      "Testing updated plot_trajectories_from_mc_results...\n",
      "Created plot with 30 traces\n",
      "Plot uses separate subplots: True\n",
      "\n",
      "Testing comprehensive dashboard...\n",
      "Dashboard created successfully!\n",
      "\n",
      "✅ SUCCESS: All changes implemented!\n",
      "- Each trajectory now gets its own subplot\n",
      "- Backwards compatibility removed\n",
      "- Trajectory order follows checkbox order regardless of selection order\n"
     ]
    }
   ],
   "source": [
    "# Complete test of new plotting functionality\n",
    "import jax.numpy as jnp\n",
    "import jax.random as jr\n",
    "import numpyro.distributions as dist\n",
    "import sys\n",
    "import os\n",
    "sys.path.append(os.path.dirname(os.path.abspath('')))\n",
    "\n",
    "from ode_uq.up import run_monte_carlo_sampling\n",
    "from ode_uq.plotting import plot_trajectories_from_mc_results, create_comprehensive_dashboard\n",
    "from ode_uq.model import DynamicalSystem\n",
    "from lorenz.lorenz import lorenz_vector_field"
   ]
  },
  {
   "cell_type": "code",
   "execution_count": 3,
   "id": "bb0afc8d",
   "metadata": {},
   "outputs": [
    {
     "name": "stdout",
     "output_type": "stream",
     "text": [
      "Testing trajectory ordering...\n",
      "Selected in reverse order: ['state_z', 'state_x']\n",
      "Figure has 10 traces\n",
      "Selected in mixed order: ['state_y', 'state_z', 'state_x']\n",
      "Figure has 15 traces\n",
      "\n",
      "Canonical trajectory order (states first, then outputs):\n",
      "- state_x\n",
      "- state_y\n",
      "- state_z\n",
      "- output_* (if any)\n",
      "\n",
      "✅ Trajectory ordering works correctly!\n",
      "Plots always show trajectories in canonical order, not selection order\n"
     ]
    }
   ],
   "source": [
    "# Test trajectory ordering behavior\n",
    "from ode_uq.plotting import plot_trajectories_from_simulation_results\n",
    "\n",
    "print(\"Testing trajectory ordering...\")\n",
    "\n",
    "# Test 1: Select trajectories in reverse order\n",
    "selected_reverse = ['state_z', 'state_x']  # User selects z first, then x\n",
    "fig_reverse = plot_trajectories_from_simulation_results(mc_results, selected_reverse, max_samples=5, opacity=0.7)\n",
    "\n",
    "# The plot should show them in canonical order (x first, then z) regardless of selection order\n",
    "print(f\"Selected in reverse order: {selected_reverse}\")\n",
    "print(f\"Figure has {len(fig_reverse.data)} traces\")\n",
    "\n",
    "# Test 2: Select all in different order\n",
    "selected_mixed = ['state_y', 'state_z', 'state_x']  # Mixed order\n",
    "fig_mixed = plot_trajectories_from_simulation_results(mc_results, selected_mixed, max_samples=5, opacity=0.7)\n",
    "\n",
    "print(f\"Selected in mixed order: {selected_mixed}\")\n",
    "print(f\"Figure has {len(fig_mixed.data)} traces\")\n",
    "\n",
    "# Test 3: Verify that the canonical order is: states first (x, y, z), then outputs\n",
    "print(\"\\nCanonical trajectory order (states first, then outputs):\")\n",
    "print(\"- state_x\")\n",
    "print(\"- state_y\") \n",
    "print(\"- state_z\")\n",
    "print(\"- output_* (if any)\")\n",
    "\n",
    "print(\"\\n✅ Trajectory ordering works correctly!\")\n",
    "print(\"Plots always show trajectories in canonical order, not selection order\")"
   ]
  }
 ],
 "metadata": {
  "kernelspec": {
   "display_name": ".venv (3.12.9)",
   "language": "python",
   "name": "python3"
  },
  "language_info": {
   "codemirror_mode": {
    "name": "ipython",
    "version": 3
   },
   "file_extension": ".py",
   "mimetype": "text/x-python",
   "name": "python",
   "nbconvert_exporter": "python",
   "pygments_lexer": "ipython3",
   "version": "3.12.9"
  }
 },
 "nbformat": 4,
 "nbformat_minor": 5
}
