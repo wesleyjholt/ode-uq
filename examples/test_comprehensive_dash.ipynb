{
 "cells": [
  {
   "cell_type": "code",
   "execution_count": 1,
   "id": "283c6c82",
   "metadata": {},
   "outputs": [],
   "source": [
    "# # Test the dashboard with a low max_plots to force checkbox system activation\n",
    "# print(\"Testing dashboard with max_plots=2 to force checkbox system...\")\n",
    "\n",
    "# try:\n",
    "#     app_limited = create_comprehensive_dashboard(\n",
    "#         mc_results,\n",
    "#         max_plots=2  # Force checkbox selection with only 2 plots allowed\n",
    "#     )\n",
    "#     print(\"Limited dashboard created successfully!\")\n",
    "#     print(\"This should show checkboxes since we have 3 states but max_plots=2\")\n",
    "#     print(\"You can run app_limited.run_server(debug=True, port=8051) to test\")\n",
    "# except Exception as e:\n",
    "#     print(f\"Error creating limited dashboard: {e}\")\n",
    "#     import traceback\n",
    "#     traceback.print_exc()\n",
    "\n",
    "# # Test with max_plots=1 (extreme case)\n",
    "# print(\"\\nTesting dashboard with max_plots=1 (extreme case)...\")\n",
    "\n",
    "# try:\n",
    "#     app_extreme = create_comprehensive_dashboard(\n",
    "#         mc_results,\n",
    "#         max_plots=1  # Only 1 plot allowed at a time\n",
    "#     )\n",
    "#     print(\"Extreme dashboard created successfully!\")\n",
    "#     print(\"This should show checkboxes with only 1 plot selectable at a time\")\n",
    "#     print(\"You can run app_extreme.run_server(debug=True, port=8052) to test\")\n",
    "# except Exception as e:\n",
    "#     print(f\"Error creating extreme dashboard: {e}\")\n",
    "#     import traceback\n",
    "#     traceback.print_exc()"
   ]
  },
  {
   "cell_type": "markdown",
   "id": "ea2725f7",
   "metadata": {},
   "source": [
    "# Test Comprehensive Dashboard with Many States\n",
    "\n",
    "This notebook tests the updated comprehensive dashboard function with the Lorenz system to ensure it handles many states/outputs without the vertical spacing error."
   ]
  },
  {
   "cell_type": "code",
   "execution_count": 2,
   "id": "8f977adb",
   "metadata": {},
   "outputs": [
    {
     "name": "stderr",
     "output_type": "stream",
     "text": [
      "/Users/holtw/Documents/mydocs/software/ode-uq/.venv/lib/python3.12/site-packages/tqdm/auto.py:21: TqdmWarning: IProgress not found. Please update jupyter and ipywidgets. See https://ipywidgets.readthedocs.io/en/stable/user_install.html\n",
      "  from .autonotebook import tqdm as notebook_tqdm\n",
      "/Users/holtw/Documents/mydocs/software/ode-uq/src/ode_uq/model.py:43: UserWarning: `equinox.static_field` is deprecated in favour of `equinox.field(static=True)`\n",
      "  _vector_field: callable = eqx.static_field()\n",
      "/Users/holtw/Documents/mydocs/software/ode-uq/src/ode_uq/model.py:44: UserWarning: `equinox.static_field` is deprecated in favour of `equinox.field(static=True)`\n",
      "  _random_param_names: list[str] = eqx.static_field()\n",
      "/Users/holtw/Documents/mydocs/software/ode-uq/src/ode_uq/model.py:45: UserWarning: `equinox.static_field` is deprecated in favour of `equinox.field(static=True)`\n",
      "  _random_init_state_names: list[str] = eqx.static_field()\n"
     ]
    }
   ],
   "source": [
    "import jax.numpy as jnp\n",
    "import jax.random as jr\n",
    "from jax import vmap\n",
    "import diffrax\n",
    "import numpyro.distributions as dist\n",
    "\n",
    "# Import our modules\n",
    "from ode_uq.up import run_monte_carlo_sampling\n",
    "from ode_uq.plotting import create_comprehensive_dashboard\n",
    "from ode_uq.model import DynamicalSystem, OutputSystem\n",
    "\n",
    "from lorenz.lorenz import lorenz_vector_field"
   ]
  },
  {
   "cell_type": "code",
   "execution_count": 3,
   "id": "d4e46166",
   "metadata": {},
   "outputs": [
    {
     "name": "stdout",
     "output_type": "stream",
     "text": [
      "Problem setup complete\n"
     ]
    }
   ],
   "source": [
    "# Define parameter distributions for Lorenz system using numpyro\n",
    "param_dists = {\n",
    "    'sigma': dist.Normal(10.0, 0.1),\n",
    "    'rho': dist.Normal(28.0, 0.1),\n",
    "    'beta': dist.Normal(8.0/3.0, 0.1)\n",
    "}\n",
    "\n",
    "# Initial state distributions (keeping deterministic for simplicity)\n",
    "init_state_dists = {\n",
    "    'x': 1.0,\n",
    "    'y': 1.0,\n",
    "    'z': 1.0\n",
    "}\n",
    "\n",
    "# Time span\n",
    "t_span = (0.0, 20.0)\n",
    "dt = 0.01\n",
    "times = jnp.arange(t_span[0], t_span[1], dt)\n",
    "\n",
    "print(\"Problem setup complete\")"
   ]
  },
  {
   "cell_type": "code",
   "execution_count": 4,
   "id": "39d8f25f",
   "metadata": {},
   "outputs": [
    {
     "name": "stdout",
     "output_type": "stream",
     "text": [
      "Created DynamicalSystem with 3 parameters\n",
      "Testing without OutputSystem first\n"
     ]
    }
   ],
   "source": [
    "# Let's start simple - no output system first\n",
    "# Create DynamicalSystem only\n",
    "dynamical_system = DynamicalSystem(\n",
    "    vector_field=lorenz_vector_field,\n",
    "    times=times,\n",
    "    param_dists=param_dists,\n",
    "    init_state_dists=init_state_dists\n",
    ")\n",
    "\n",
    "print(f\"Created DynamicalSystem with {len(param_dists)} parameters\")\n",
    "print(\"Testing without OutputSystem first\")"
   ]
  },
  {
   "cell_type": "code",
   "execution_count": 5,
   "id": "97ea5f85",
   "metadata": {},
   "outputs": [
    {
     "name": "stdout",
     "output_type": "stream",
     "text": [
      "Running Monte Carlo sampling...\n",
      "Monte Carlo sampling complete!\n",
      "- States: ['x', 'y', 'z']\n",
      "- Pointwise outputs: None\n",
      "- Functional outputs: None\n",
      "- Total trajectories: 3\n",
      "  State 'x': shape (100, 2000)\n",
      "  State 'y': shape (100, 2000)\n",
      "  State 'z': shape (100, 2000)\n",
      "Times shape: (2000,)\n",
      "Monte Carlo sampling complete!\n",
      "- States: ['x', 'y', 'z']\n",
      "- Pointwise outputs: None\n",
      "- Functional outputs: None\n",
      "- Total trajectories: 3\n",
      "  State 'x': shape (100, 2000)\n",
      "  State 'y': shape (100, 2000)\n",
      "  State 'z': shape (100, 2000)\n",
      "Times shape: (2000,)\n"
     ]
    }
   ],
   "source": [
    "# Run Monte Carlo sampling without output system\n",
    "key = jr.PRNGKey(42)\n",
    "n_samples = 100\n",
    "\n",
    "print(\"Running Monte Carlo sampling...\")\n",
    "mc_results = run_monte_carlo_sampling(\n",
    "    dynamical_system,\n",
    "    key, \n",
    "    n_samples,\n",
    "    None  # No output system\n",
    ")\n",
    "\n",
    "print(f\"Monte Carlo sampling complete!\")\n",
    "print(f\"- States: {list(mc_results.states.keys()) if mc_results.states else 'None'}\")\n",
    "print(f\"- Pointwise outputs: {list(mc_results.pointwise_outputs.keys()) if mc_results.pointwise_outputs else 'None'}\")\n",
    "print(f\"- Functional outputs: {list(mc_results.functional_outputs.keys()) if mc_results.functional_outputs else 'None'}\")\n",
    "\n",
    "# Calculate total trajectories\n",
    "total_trajectories = 0\n",
    "if mc_results.states:\n",
    "    total_trajectories += len(mc_results.states)\n",
    "if mc_results.pointwise_outputs:\n",
    "    total_trajectories += len(mc_results.pointwise_outputs)\n",
    "    \n",
    "print(f\"- Total trajectories: {total_trajectories}\")\n",
    "\n",
    "# Check shapes\n",
    "if mc_results.states:\n",
    "    for name, data in mc_results.states.items():\n",
    "        print(f\"  State '{name}': shape {data.shape}\")\n",
    "\n",
    "print(f\"Times shape: {mc_results.times.shape}\")"
   ]
  },
  {
   "cell_type": "code",
   "execution_count": 6,
   "id": "0dd0e94b",
   "metadata": {},
   "outputs": [
    {
     "name": "stdout",
     "output_type": "stream",
     "text": [
      "Creating comprehensive dashboard with organized checkboxes...\n",
      "Dashboard created successfully!\n",
      "Features:\n",
      "- Side-by-side trajectory plots (samples + statistics)\n",
      "- Organized checkboxes by type: States, Pointwise, Functional, Parameters, Initial\n",
      "- Clean labels (just variable names, not 'State: x')\n",
      "- All controls at top before plots\n",
      "Run app.run_server(debug=True, port=8050) to start the server\n"
     ]
    },
    {
     "data": {
      "text/html": [
       "\n",
       "        <iframe\n",
       "            width=\"100%\"\n",
       "            height=\"650\"\n",
       "            src=\"http://127.0.0.1:8050/\"\n",
       "            frameborder=\"0\"\n",
       "            allowfullscreen\n",
       "            \n",
       "        ></iframe>\n",
       "        "
      ],
      "text/plain": [
       "<IPython.lib.display.IFrame at 0x12ae1fd10>"
      ]
     },
     "metadata": {},
     "output_type": "display_data"
    }
   ],
   "source": [
    "# Test the comprehensive dashboard with organized checkboxes\n",
    "print(\"Creating comprehensive dashboard with organized checkboxes...\")\n",
    "\n",
    "try:\n",
    "    app = create_comprehensive_dashboard(\n",
    "        mc_results,\n",
    "        max_plots=10,  # Limit trajectory plots\n",
    "        max_histograms=6  # Limit histogram plots\n",
    "    )\n",
    "    print(\"Dashboard created successfully!\")\n",
    "    print(\"Features:\")\n",
    "    print(\"- Side-by-side trajectory plots (samples + statistics)\")\n",
    "    print(\"- Organized checkboxes by type: States, Pointwise, Functional, Parameters, Initial\")\n",
    "    print(\"- Clean labels (just variable names, not 'State: x')\")\n",
    "    print(\"- All controls at top before plots\")\n",
    "    print(\"Run app.run_server(debug=True, port=8050) to start the server\")\n",
    "except Exception as e:\n",
    "    print(f\"Error creating dashboard: {e}\")\n",
    "    import traceback\n",
    "    traceback.print_exc()\n",
    "\n",
    "# Start the dashboard\n",
    "app.run(debug=True, port=8050)"
   ]
  },
  {
   "cell_type": "code",
   "execution_count": 2,
   "id": "4537b4f7",
   "metadata": {},
   "outputs": [
    {
     "name": "stdout",
     "output_type": "stream",
     "text": [
      "Running quick Monte Carlo sampling...\n",
      "Created mc_results with states: ['x', 'y', 'z']\n",
      "\n",
      "Testing updated plot_trajectories_from_mc_results...\n",
      "Created plot with 30 traces\n",
      "Plot uses separate subplots: True\n",
      "\n",
      "Testing comprehensive dashboard...\n",
      "Dashboard created successfully!\n",
      "\n",
      "✅ SUCCESS: All changes implemented!\n",
      "- Each trajectory now gets its own subplot\n",
      "- Backwards compatibility removed\n",
      "- Trajectory order follows checkbox order regardless of selection order\n",
      "Created mc_results with states: ['x', 'y', 'z']\n",
      "\n",
      "Testing updated plot_trajectories_from_mc_results...\n",
      "Created plot with 30 traces\n",
      "Plot uses separate subplots: True\n",
      "\n",
      "Testing comprehensive dashboard...\n",
      "Dashboard created successfully!\n",
      "\n",
      "✅ SUCCESS: All changes implemented!\n",
      "- Each trajectory now gets its own subplot\n",
      "- Backwards compatibility removed\n",
      "- Trajectory order follows checkbox order regardless of selection order\n"
     ]
    }
   ],
   "source": [
    "# Complete test of new plotting functionality\n",
    "import jax.numpy as jnp\n",
    "import jax.random as jr\n",
    "import numpyro.distributions as dist\n",
    "import sys\n",
    "import os\n",
    "sys.path.append(os.path.dirname(os.path.abspath('')))\n",
    "\n",
    "from ode_uq.up import run_monte_carlo_sampling\n",
    "from ode_uq.plotting import plot_trajectories_from_mc_results, create_comprehensive_dashboard\n",
    "from ode_uq.model import DynamicalSystem\n",
    "from lorenz.lorenz import lorenz_vector_field"
   ]
  },
  {
   "cell_type": "code",
   "execution_count": 3,
   "id": "bb0afc8d",
   "metadata": {},
   "outputs": [
    {
     "name": "stdout",
     "output_type": "stream",
     "text": [
      "Testing trajectory ordering...\n",
      "Selected in reverse order: ['state_z', 'state_x']\n",
      "Figure has 10 traces\n",
      "Selected in mixed order: ['state_y', 'state_z', 'state_x']\n",
      "Figure has 15 traces\n",
      "\n",
      "Canonical trajectory order (states first, then outputs):\n",
      "- state_x\n",
      "- state_y\n",
      "- state_z\n",
      "- output_* (if any)\n",
      "\n",
      "✅ Trajectory ordering works correctly!\n",
      "Plots always show trajectories in canonical order, not selection order\n"
     ]
    }
   ],
   "source": [
    "# Test the new organized checkbox functionality\n",
    "from ode_uq.plotting import _organize_options_by_type, _get_histogram_options\n",
    "\n",
    "print(\"Testing organized options functionality...\")\n",
    "\n",
    "# Test organized options\n",
    "organized_opts = _organize_options_by_type(mc_results)\n",
    "print(f\"\\nOrganized options structure:\")\n",
    "for category, types in organized_opts.items():\n",
    "    for plot_type, options in types.items():\n",
    "        if options:\n",
    "            print(f\"  {category}.{plot_type}: {len(options)} options\")\n",
    "            for opt in options[:2]:  # Show first 2 options\n",
    "                print(f\"    - {opt['label']} ({opt['value']})\")\n",
    "            if len(options) > 2:\n",
    "                print(f\"    ... and {len(options)-2} more\")\n",
    "\n",
    "# Test histogram options\n",
    "hist_opts, hist_keys = _get_histogram_options(mc_results)\n",
    "print(f\"\\nHistogram options: {len(hist_opts)} total\")\n",
    "for opt in hist_opts:\n",
    "    print(f\"  - {opt['label']} ({opt['value']})\")\n",
    "\n",
    "print(\"\\n✅ Organized checkbox functionality works correctly!\")\n",
    "print(\"\\nDashboard features implemented:\")\n",
    "print(\"1. ✅ Side-by-side trajectory plots (samples + statistics)\")\n",
    "print(\"2. ✅ Organized checkboxes by type in columns\")\n",
    "print(\"3. ✅ Clean labels (just variable names)\")\n",
    "print(\"4. ✅ All controls at top before plots\")\n",
    "print(\"5. ✅ States, Pointwise, Functional, Parameters, Initial columns\")\n",
    "print(\"6. ✅ Improved histogram spacing\")\n",
    "print(\"7. ✅ Selection limits with enable/disable logic\")"
   ]
  },
  {
   "cell_type": "code",
   "execution_count": null,
   "id": "36efae5a",
   "metadata": {},
   "outputs": [],
   "source": [
    "# Test the consistent color scheme matching checkbox headers\n",
    "print(\"Testing consistent color scheme for trajectory plots...\")\n",
    "\n",
    "try:\n",
    "    # Test dashboard with consistent colors\n",
    "    app_colors = create_comprehensive_dashboard(\n",
    "        mc_results,\n",
    "        max_plots=10,\n",
    "        max_histograms=6\n",
    "    )\n",
    "    print(\"✅ Dashboard created successfully with consistent color scheme!\")\n",
    "    print(\"\\nColor consistency implemented:\")\n",
    "    print(\"1. ✅ All STATE trajectories use BLUE (#1f77b4)\")\n",
    "    print(\"   - Sample trajectories: blue lines\")\n",
    "    print(\"   - Statistics plots: blue percentile bands and median\")\n",
    "    print(\"   - Matches 'States' checkbox header color\")\n",
    "    print()\n",
    "    print(\"2. ✅ All POINTWISE OUTPUT trajectories use ORANGE (#ff7f0e)\")\n",
    "    print(\"   - Sample trajectories: orange lines\")  \n",
    "    print(\"   - Statistics plots: orange percentile bands and median\")\n",
    "    print(\"   - Matches 'Pointwise Outputs' checkbox header color\")\n",
    "    print()\n",
    "    print(\"Color mapping:\")\n",
    "    print(\"- States checkbox header: #1f77b4 (blue)\")\n",
    "    print(\"- State trajectories: #1f77b4 (blue)\")\n",
    "    print(\"- State statistics: blue-based colors\")\n",
    "    print(\"- Pointwise checkbox header: #ff7f0e (orange)\")\n",
    "    print(\"- Pointwise trajectories: #ff7f0e (orange)\")\n",
    "    print(\"- Pointwise statistics: orange-based colors\")\n",
    "    \n",
    "    print(f\"\\nWith Lorenz system ({total_trajectories} states):\")\n",
    "    print(\"- x, y, z trajectories will all be blue\")\n",
    "    print(\"- Consistent with blue 'States' header\")\n",
    "    print(\"- Easy visual identification by color\")\n",
    "    \n",
    "    print(\"\\nYou can run app_colors.run_server(debug=True, port=8052) to test\")\n",
    "    \n",
    "except Exception as e:\n",
    "    print(f\"❌ Error creating dashboard: {e}\")\n",
    "    import traceback\n",
    "    traceback.print_exc()"
   ]
  },
  {
   "cell_type": "code",
   "execution_count": null,
   "id": "e959e551",
   "metadata": {},
   "outputs": [],
   "source": [
    "# Test the new overlay trajectory plot feature\n",
    "print(\"Testing overlay trajectory plot functionality...\")\n",
    "\n",
    "try:\n",
    "    # Test dashboard with overlay plot\n",
    "    app_overlay = create_comprehensive_dashboard(\n",
    "        mc_results,\n",
    "        max_plots=10,\n",
    "        max_histograms=6\n",
    "    )\n",
    "    print(\"✅ Dashboard created successfully with overlay trajectory plot!\")\n",
    "    print(\"\\nNew overlay plot features:\")\n",
    "    print(\"1. ✅ Single plot with multiple trajectories overlaid\")\n",
    "    print(\"2. ✅ Multi-select dropdown for trajectory selection\")\n",
    "    print(\"3. ✅ Each trajectory gets unique color (independent of type-based colors)\")\n",
    "    print(\"4. ✅ Includes both states and pointwise outputs\")\n",
    "    print(\"5. ✅ Legend shows trajectory names for easy identification\")\n",
    "    print(\"6. ✅ Respects sample count and opacity sliders\")\n",
    "    print()\n",
    "    print(\"Overlay plot functionality:\")\n",
    "    print(\"- Dropdown: Multi-select states and/or pointwise outputs\")\n",
    "    print(\"- Colors: Unique color per trajectory (Set3 palette)\")\n",
    "    print(\"- Default: First 3 available trajectories selected\")\n",
    "    print(\"- Legend: Shows trajectory names on the right\")\n",
    "    print(\"- Interactive: Hover shows trajectory type, sample, time, value\")\n",
    "    print()\n",
    "    print(f\"With Lorenz system ({total_trajectories} states available):\")\n",
    "    print(\"- Can overlay x, y, z states on single plot\")\n",
    "    print(\"- Each state gets distinct color: x, y, z\")\n",
    "    print(\"- Easy comparison of trajectory behaviors\")\n",
    "    print(\"- Colors independent of blue 'States' color scheme\")\n",
    "    print()\n",
    "    print(\"Dashboard sections now include:\")\n",
    "    print(\"1. Selection Controls (organized checkboxes)\")\n",
    "    print(\"2. Side-by-side Trajectory Plots (samples + statistics)\")\n",
    "    print(\"3. NEW: Overlay Trajectory Plot (multi-select dropdown)\")\n",
    "    print(\"4. Parameter and Output Histograms\")\n",
    "    \n",
    "    print(\"\\nYou can run app_overlay.run_server(debug=True, port=8053) to test\")\n",
    "    \n",
    "except Exception as e:\n",
    "    print(f\"❌ Error creating dashboard: {e}\")\n",
    "    import traceback\n",
    "    traceback.print_exc()"
   ]
  }
 ],
 "metadata": {
  "kernelspec": {
   "display_name": ".venv (3.12.9)",
   "language": "python",
   "name": "python3"
  },
  "language_info": {
   "codemirror_mode": {
    "name": "ipython",
    "version": 3
   },
   "file_extension": ".py",
   "mimetype": "text/x-python",
   "name": "python",
   "nbconvert_exporter": "python",
   "pygments_lexer": "ipython3",
   "version": "3.12.9"
  }
 },
 "nbformat": 4,
 "nbformat_minor": 5
}
